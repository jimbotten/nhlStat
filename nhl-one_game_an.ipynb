{
 "cells": [
  {
   "metadata": {
    "trusted": true
   },
   "cell_type": "code",
   "source": "import requests\nimport pandas as pd\nimport pprint\nfrom datetime import date\nimport json\n\nwith open('games/2023020303.json') as json_file:\n    data = json.load(json_file)\ndataGame = pd.json_normalize(data,record_path= ['plays'],max_level=0)\n#dataGame = pd.json_normalize(data,record_path=\ndataPlayer = pd.json_normalize(data, 'rosterSpots')\n\ndataPlayer=dataPlayer[['playerId','sweaterNumber','positionCode','firstName.default','lastName.default']]\ndataPlayer\n\n#dataGame\n#dataGame.dtypes\ndataGame['typeDescKey'].unique()\n\ndataGame.columns\n\ndf=dataGame[(dataGame[\"typeDescKey\"]=='faceoff')]\ndf[['periodDescriptor','timeInPeriod','details']]\ndf\nbasics.dataFrame\n#df[[\"team.name\",\"team.triCode\",\"result.description\",\"about.ordinalNum\",\"about.periodTime\",\"result.strength.code\",\"result.secondaryType\"]]\n#rslt_df = data[(data['teams.away.team.id'].isin(options)) |",
   "execution_count": null,
   "outputs": []
  }
 ],
 "metadata": {
  "kernelspec": {
   "name": "python3",
   "display_name": "Python 3",
   "language": "python"
  },
  "language_info": {
   "name": "python",
   "version": "3.10.4",
   "mimetype": "text/x-python",
   "codemirror_mode": {
    "name": "ipython",
    "version": 3
   },
   "pygments_lexer": "ipython3",
   "nbconvert_exporter": "python",
   "file_extension": ".py"
  }
 },
 "nbformat": 4,
 "nbformat_minor": 2
}