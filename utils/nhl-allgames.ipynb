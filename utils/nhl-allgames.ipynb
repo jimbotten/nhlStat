{
 "cells": [
  {
   "metadata": {
    "trusted": true
   },
   "cell_type": "code",
   "source": "import requests\nimport pandas as pd\nimport pprint\nfrom datetime import date\nimport json\nimport glob",
   "execution_count": 2,
   "outputs": []
  },
  {
   "metadata": {},
   "cell_type": "markdown",
   "source": "## Top Player Penalty Minutes"
  },
  {
   "metadata": {
    "trusted": true
   },
   "cell_type": "code",
   "source": "df = pd.DataFrame()\nfor file in glob.glob('games/2024*.json'):\n    #print(file)\n    with open(f'{file}') as json_file:\n        data = json.load(json_file)\n    dataGame = pd.json_normalize(data,record_path= ['plays'])\n    dataGame['game']=file\n    df=pd.concat([df,dataGame])\n# df.describe()\n\n# Penalties\n# df=df[['typeDescKey','details.xCoord','details.yCoord','details.committedByPlayerId','typeCode','details.duration']].loc[df['typeDescKey']=='penalty']\npenaltyColumns = [ \n    'typeDescKey',\n    'details.xCoord',\n    'details.yCoord',\n    'details.committedByPlayerId',\n    'details.drawnByPlayerId',\n    'typeCode',\n    'details.duration',\n    'details.descKey',\n    'periodDescriptor.number',\n    'timeInPeriod'\n]\ndf=df.loc[df['typeDescKey']=='penalty']\n\n# df.groupby(df['details.committedByPlayerId'])\nplayers=pd.read_csv('games/players.csv')\ndf=df.rename(columns={\"details.committedByPlayerId\":'playerId'})\ndf=pd.merge(df,players,on=\"playerId\",how='outer')\n\ndf=df.loc[df['teamId']==12]\n# df=df.loc[df['details.duration']!=0]\ndf.dropna(subset=['details.duration'],inplace=True)\npenaltyPlayers = df.groupby(['lastName.default','firstName.default'])['details.duration'].sum()\npenaltyPlayers = penaltyPlayers.sort_values(ascending=False)\n\nprint(penaltyPlayers)",
   "execution_count": 3,
   "outputs": [
    {
     "output_type": "stream",
     "text": "lastName.default  firstName.default\nSvechnikov        Andrei               18.0\nKotkaniemi        Jesperi              16.0\nAho               Sebastian            12.0\nWalker            Sean                 12.0\nChatfield         Jalen                10.0\nGostisbehere      Shayne               10.0\nCarrier           William               8.0\nBlake             Jackson               8.0\nJarvis            Seth                  6.0\nOrlov             Dmitry                6.0\nStaal             Jordan                6.0\nBurns             Brent                 6.0\nNecas             Martin                4.0\nRobinson          Eric                  4.0\nRoslovic          Jack                  4.0\nDrury             Jack                  2.0\nSlavin            Jaccob                2.0\nMartinook         Jordan                2.0\nName: details.duration, dtype: float64\n",
     "name": "stdout"
    }
   ]
  },
  {
   "metadata": {},
   "cell_type": "markdown",
   "source": "## Top types of penalties that hurricanes perform"
  },
  {
   "metadata": {
    "trusted": true
   },
   "cell_type": "code",
   "source": "penaltyTypes = df.groupby(['details.descKey'])['details.descKey'].count()\npenaltyTypes = penaltyTypes.sort_values(ascending=False)\nprint(penaltyTypes)\n# df.info()\n# df['details.descKey'].unique()",
   "execution_count": 4,
   "outputs": [
    {
     "output_type": "stream",
     "text": "details.descKey\ntripping                         15\nhooking                          11\nslashing                          7\ndelaying-game-puck-over-glass     6\ncross-checking                    5\nroughing                          5\nhigh-sticking                     4\nholding                           4\ninterference                      4\nhigh-sticking-double-minor        3\nholding-the-stick                 1\nName: details.descKey, dtype: int64\n",
     "name": "stdout"
    }
   ]
  },
  {
   "metadata": {},
   "cell_type": "markdown",
   "source": "## Hurricane Penalties by Location"
  },
  {
   "metadata": {
    "trusted": true
   },
   "cell_type": "code",
   "source": "# penaltytype='tripping'\n\npenaltyLocations = df.groupby(['lastName.default']).agg(\n    avg_x=('details.xCoord','mean'),\n    avg_y=('details.yCoord','mean'),\n    std_x=('details.xCoord','std'),\n    std_y=('details.yCoord','std'),\n    count=('lastName.default','count'),\n    duration=('details.duration','sum'))\npenaltyLocations = penaltyLocations.sort_values(by='count',ascending=False)\nprint(penaltyLocations)",
   "execution_count": 5,
   "outputs": [
    {
     "output_type": "stream",
     "text": "                      avg_x      avg_y      std_x      std_y  count  duration\nlastName.default                                                             \nSvechnikov        -1.666667   3.666667  62.391907  26.386550      9      18.0\nAho              -24.166667   9.666667  75.258001  24.654952      6      12.0\nKotkaniemi        -3.500000 -20.166667  82.332861  16.277797      6      16.0\nGostisbehere     -17.400000  -7.200000  79.396473  24.190907      5      10.0\nWalker           -10.600000 -15.000000  58.028441  37.040518      5      12.0\nChatfield         28.000000  -8.000000  68.110205  27.120103      5      10.0\nCarrier          -13.500000  18.500000  80.189359  21.079216      4       8.0\nBlake             64.750000   6.500000  27.885181  32.562760      4       8.0\nJarvis            72.000000 -10.333333  15.099669  36.018514      3       6.0\nOrlov              7.666667  -8.666667  89.271123  27.319102      3       6.0\nStaal            -11.666667  -4.000000  88.669799  29.512709      3       6.0\nBurns             -7.333333   2.666667  83.050186  22.278540      3       6.0\nNecas              7.000000  -9.500000   9.899495  10.606602      2       4.0\nRobinson         -27.000000 -24.000000  89.095454   9.899495      2       4.0\nRoslovic         -28.500000   3.500000  45.961941   3.535534      2       4.0\nDrury             79.000000   3.000000        NaN        NaN      1       2.0\nSlavin            54.000000 -34.000000        NaN        NaN      1       2.0\nMartinook        -95.000000  27.000000        NaN        NaN      1       2.0\n",
     "name": "stdout"
    }
   ]
  },
  {
   "metadata": {
    "trusted": false
   },
   "cell_type": "code",
   "source": "",
   "execution_count": null,
   "outputs": []
  },
  {
   "metadata": {},
   "cell_type": "markdown",
   "source": "## types of records"
  },
  {
   "metadata": {
    "trusted": false
   },
   "cell_type": "code",
   "source": "df[\"typeDescKey\"].unique()\n#dataGame.dtypes",
   "execution_count": 12,
   "outputs": [
    {
     "output_type": "execute_result",
     "execution_count": 12,
     "data": {
      "text/plain": "array(['penalty', nan], dtype=object)"
     },
     "metadata": {}
    }
   ]
  },
  {
   "metadata": {},
   "cell_type": "markdown",
   "source": "## Goals"
  },
  {
   "metadata": {
    "trusted": false
   },
   "cell_type": "code",
   "source": "goals=df[(df[\"typeDescKey\"]==\"missed-shot\") | (df[\"typeDescKey\"]==\"blocked-shot\")]\n# grouped=goals.groupby('team.name')\ngoals.head(3)[['timeInPeriod','details.reason']]\n#goals[['team.name','coordinates.x','coordinates.y']]\n# goals.describe\n\n",
   "execution_count": 13,
   "outputs": [
    {
     "output_type": "execute_result",
     "execution_count": 13,
     "data": {
      "text/plain": "Empty DataFrame\nColumns: [timeInPeriod, details.reason]\nIndex: []",
      "text/html": "<div>\n<style scoped>\n    .dataframe tbody tr th:only-of-type {\n        vertical-align: middle;\n    }\n\n    .dataframe tbody tr th {\n        vertical-align: top;\n    }\n\n    .dataframe thead th {\n        text-align: right;\n    }\n</style>\n<table border=\"1\" class=\"dataframe\">\n  <thead>\n    <tr style=\"text-align: right;\">\n      <th></th>\n      <th>timeInPeriod</th>\n      <th>details.reason</th>\n    </tr>\n  </thead>\n  <tbody>\n  </tbody>\n</table>\n</div>"
     },
     "metadata": {}
    }
   ]
  },
  {
   "metadata": {},
   "cell_type": "markdown",
   "source": "GET https://statsapi.web.nhl.com/api/v1/teams | Returns a list of data about\nall teams including their id, venue details, division, conference and franchise information.\nGET https://statsapi.web.nhl.com/api/v1/teams/ID | Returns the same information as above just\nfor a single team instead of the entire league.\n\nTeam Modifiers\nAdd these to the end of the url\n?expand=team.roster | Shows roster of active players for the specified team\n?expand=person.names | Same as above, but gives less info."
  },
  {
   "metadata": {
    "trusted": false
   },
   "cell_type": "code",
   "source": "baseUrlEn=\"https://statsapi.web.nhl.com/api/v1/teams/12\"\nbaseUrlEn=\"https://api-web.nhle.com/v1/roster-season/CAR\"\n# baseUrlEn=\"https://api.nhle.com/v1/roster/CAR/now\"\nresponse=requests.get(baseUrlEn)\ndfroster=pd.json_normalize(response.json())\n# print(response)\ndfroster\nskater=requests.get('https://api.nhle.com/stats/rest/en/skater/summary?8474150')\nprint(skater)\n",
   "execution_count": 14,
   "outputs": [
    {
     "output_type": "stream",
     "text": "<Response [500]>\n",
     "name": "stdout"
    }
   ]
  },
  {
   "metadata": {
    "trusted": false
   },
   "cell_type": "code",
   "source": "skater",
   "execution_count": 15,
   "outputs": [
    {
     "output_type": "execute_result",
     "execution_count": 15,
     "data": {
      "text/plain": "<Response [500]>"
     },
     "metadata": {}
    }
   ]
  },
  {
   "metadata": {
    "trusted": false
   },
   "cell_type": "code",
   "source": "df.head()",
   "execution_count": 17,
   "outputs": [
    {
     "output_type": "execute_result",
     "execution_count": 17,
     "data": {
      "text/plain": "                    game  eventId timeInPeriod timeRemaining situationCode  \\\n0  games/2024020254.json    381.0        13:42         06:18          1551   \n1  games/2024020280.json    931.0        11:04         08:56          1551   \n2  games/2024020084.json    674.0        13:58         06:02          1551   \n3  games/2024020135.json    389.0        14:24         05:36          1551   \n4  games/2024020020.json    895.0        04:57         15:03          1451   \n\n  homeTeamDefendingSide  typeCode typeDescKey  sortOrder  \\\n0                  left     509.0     penalty      205.0   \n1                 right     509.0     penalty      669.0   \n2                 right     509.0     penalty      448.0   \n3                  left     509.0     penalty      208.0   \n4                 right     509.0     penalty      593.0   \n\n   periodDescriptor.number  ... details.assist1PlayerId  \\\n0                      1.0  ...                     NaN   \n1                      3.0  ...                     NaN   \n2                      2.0  ...                     NaN   \n3                      1.0  ...                     NaN   \n4                      3.0  ...                     NaN   \n\n   details.assist1PlayerTotal  details.assist2PlayerId  \\\n0                         NaN                      NaN   \n1                         NaN                      NaN   \n2                         NaN                      NaN   \n3                         NaN                      NaN   \n4                         NaN                      NaN   \n\n   details.assist2PlayerTotal  details.servedByPlayerId  teamId  \\\n0                         NaN                       NaN    12.0   \n1                         NaN                       NaN    12.0   \n2                         NaN                       NaN    12.0   \n3                         NaN                       NaN    12.0   \n4                         NaN                       NaN    12.0   \n\n   sweaterNumber positionCode  firstName.default  lastName.default  \n0           20.0            C          Sebastian               Aho  \n1           20.0            C          Sebastian               Aho  \n2           20.0            C          Sebastian               Aho  \n3           20.0            C          Sebastian               Aho  \n4           20.0            C          Sebastian               Aho  \n\n[5 rows x 55 columns]",
      "text/html": "<div>\n<style scoped>\n    .dataframe tbody tr th:only-of-type {\n        vertical-align: middle;\n    }\n\n    .dataframe tbody tr th {\n        vertical-align: top;\n    }\n\n    .dataframe thead th {\n        text-align: right;\n    }\n</style>\n<table border=\"1\" class=\"dataframe\">\n  <thead>\n    <tr style=\"text-align: right;\">\n      <th></th>\n      <th>game</th>\n      <th>eventId</th>\n      <th>timeInPeriod</th>\n      <th>timeRemaining</th>\n      <th>situationCode</th>\n      <th>homeTeamDefendingSide</th>\n      <th>typeCode</th>\n      <th>typeDescKey</th>\n      <th>sortOrder</th>\n      <th>periodDescriptor.number</th>\n      <th>...</th>\n      <th>details.assist1PlayerId</th>\n      <th>details.assist1PlayerTotal</th>\n      <th>details.assist2PlayerId</th>\n      <th>details.assist2PlayerTotal</th>\n      <th>details.servedByPlayerId</th>\n      <th>teamId</th>\n      <th>sweaterNumber</th>\n      <th>positionCode</th>\n      <th>firstName.default</th>\n      <th>lastName.default</th>\n    </tr>\n  </thead>\n  <tbody>\n    <tr>\n      <th>0</th>\n      <td>games/2024020254.json</td>\n      <td>381.0</td>\n      <td>13:42</td>\n      <td>06:18</td>\n      <td>1551</td>\n      <td>left</td>\n      <td>509.0</td>\n      <td>penalty</td>\n      <td>205.0</td>\n      <td>1.0</td>\n      <td>...</td>\n      <td>NaN</td>\n      <td>NaN</td>\n      <td>NaN</td>\n      <td>NaN</td>\n      <td>NaN</td>\n      <td>12.0</td>\n      <td>20.0</td>\n      <td>C</td>\n      <td>Sebastian</td>\n      <td>Aho</td>\n    </tr>\n    <tr>\n      <th>1</th>\n      <td>games/2024020280.json</td>\n      <td>931.0</td>\n      <td>11:04</td>\n      <td>08:56</td>\n      <td>1551</td>\n      <td>right</td>\n      <td>509.0</td>\n      <td>penalty</td>\n      <td>669.0</td>\n      <td>3.0</td>\n      <td>...</td>\n      <td>NaN</td>\n      <td>NaN</td>\n      <td>NaN</td>\n      <td>NaN</td>\n      <td>NaN</td>\n      <td>12.0</td>\n      <td>20.0</td>\n      <td>C</td>\n      <td>Sebastian</td>\n      <td>Aho</td>\n    </tr>\n    <tr>\n      <th>2</th>\n      <td>games/2024020084.json</td>\n      <td>674.0</td>\n      <td>13:58</td>\n      <td>06:02</td>\n      <td>1551</td>\n      <td>right</td>\n      <td>509.0</td>\n      <td>penalty</td>\n      <td>448.0</td>\n      <td>2.0</td>\n      <td>...</td>\n      <td>NaN</td>\n      <td>NaN</td>\n      <td>NaN</td>\n      <td>NaN</td>\n      <td>NaN</td>\n      <td>12.0</td>\n      <td>20.0</td>\n      <td>C</td>\n      <td>Sebastian</td>\n      <td>Aho</td>\n    </tr>\n    <tr>\n      <th>3</th>\n      <td>games/2024020135.json</td>\n      <td>389.0</td>\n      <td>14:24</td>\n      <td>05:36</td>\n      <td>1551</td>\n      <td>left</td>\n      <td>509.0</td>\n      <td>penalty</td>\n      <td>208.0</td>\n      <td>1.0</td>\n      <td>...</td>\n      <td>NaN</td>\n      <td>NaN</td>\n      <td>NaN</td>\n      <td>NaN</td>\n      <td>NaN</td>\n      <td>12.0</td>\n      <td>20.0</td>\n      <td>C</td>\n      <td>Sebastian</td>\n      <td>Aho</td>\n    </tr>\n    <tr>\n      <th>4</th>\n      <td>games/2024020020.json</td>\n      <td>895.0</td>\n      <td>04:57</td>\n      <td>15:03</td>\n      <td>1451</td>\n      <td>right</td>\n      <td>509.0</td>\n      <td>penalty</td>\n      <td>593.0</td>\n      <td>3.0</td>\n      <td>...</td>\n      <td>NaN</td>\n      <td>NaN</td>\n      <td>NaN</td>\n      <td>NaN</td>\n      <td>NaN</td>\n      <td>12.0</td>\n      <td>20.0</td>\n      <td>C</td>\n      <td>Sebastian</td>\n      <td>Aho</td>\n    </tr>\n  </tbody>\n</table>\n<p>5 rows × 55 columns</p>\n</div>"
     },
     "metadata": {}
    }
   ]
  },
  {
   "metadata": {
    "trusted": false
   },
   "cell_type": "code",
   "source": "",
   "execution_count": null,
   "outputs": []
  }
 ],
 "metadata": {
  "kernelspec": {
   "name": "python3",
   "display_name": "Python 3",
   "language": "python"
  },
  "language_info": {
   "name": "python",
   "version": "3.10.4",
   "mimetype": "text/x-python",
   "codemirror_mode": {
    "name": "ipython",
    "version": 3
   },
   "pygments_lexer": "ipython3",
   "nbconvert_exporter": "python",
   "file_extension": ".py"
  }
 },
 "nbformat": 4,
 "nbformat_minor": 2
}